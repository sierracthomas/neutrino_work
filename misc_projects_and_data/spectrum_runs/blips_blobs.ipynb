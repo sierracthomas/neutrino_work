{
 "cells": [
  {
   "cell_type": "code",
   "execution_count": 74,
   "id": "148da4eb",
   "metadata": {},
   "outputs": [],
   "source": [
    "import matplotlib.pyplot as plt\n",
    "from numpy import genfromtxt\n",
    "import numpy as np\n",
    "from mpl_toolkits.mplot3d import axes3d\n",
    "import matplotlib.ticker as mticker\n",
    "import os\n",
    "\n",
    "headers = [\"event_id\", \"track_id\", \"type\", \"x\", \"y\", \"z\", \"delta_E\", \"process\"]\n",
    "\n",
    "\n",
    "def proc_file(energy):\n",
    "    filepath = os.path.join(os.getcwd(), f\"spectrum/{energy}/proc.txt\")\n",
    "    with open(f'spectrum/{energy}/log.txt', 'r') as f:\n",
    "        with open(filepath, 'w') as new_f:\n",
    "            for i, line in enumerate(f):\n",
    "                if \"ProcName\" in line:\n",
    "                    new_f.write(line)\n",
    "                    \n",
    "\n",
    "# generate process name files\n",
    "for i in os.listdir(\"spectrum/\"):\n",
    "    if os.path.isfile(f\"spectrum/{i}/log.txt\"):\n",
    "        proc_file(i)\n",
    "\n",
    "def proc_list(energy, my_data):\n",
    "    proc = []\n",
    "    with open(f'spectrum/{energy}/proc.txt', 'r') as f:\n",
    "        for i, line in enumerate(f):\n",
    "            #print(my_data[i], line.split()[3])\n",
    "            proc.append(line.split()[3])\n",
    "            #if i > 5:\n",
    "            #    break\n",
    "    return proc\n",
    "\n"
   ]
  },
  {
   "cell_type": "code",
   "execution_count": 85,
   "id": "08eef755",
   "metadata": {},
   "outputs": [],
   "source": [
    "## below is from prev scripts\n",
    "def search_for_thing(column, search_param, my_data):\n",
    "    electron_array = []\n",
    "    for i in range(len(my_data.T[0])):\n",
    "        if my_data.T[column][i] == search_param:\n",
    "            electron_array.append(my_data[i])\n",
    "    if len(electron_array) == 0:\n",
    "        print(\"Couldn't find anything with\", headers[column], f\"= {search_param}\")\n",
    "    else: \n",
    "        print(headers[column], f\" = {search_param}\")\n",
    "    return np.array(electron_array)\n",
    "\n",
    "\n",
    "def find_electrons(my_data):\n",
    "    arr = search_for_thing(2, 1, my_data) # look for electrons\n",
    "    plt.scatter(arr.T[0], arr.T[1])\n",
    "    plt.xlabel(\"event_id\")\n",
    "    plt.ylabel(\"track_id\")\n",
    "    \n",
    "def integrate_over(event_num, track_num, data, param = 6):\n",
    "    integrate = 0\n",
    "    for i in range(len(data)):\n",
    "        if data.T[0][i] == event_num and data.T[1][i] == track_num:\n",
    "            integrate = integrate + data.T[param][i]\n",
    "    return [event_num, track_num, integrate]\n",
    "\n",
    "def integrate_over(event_num, track_num, data, param = 6, subtract = None):\n",
    "    integrate = 0\n",
    "    for i in range(len(data)):\n",
    "        if data.T[0][i] == event_num and data.T[1][i] == track_num:\n",
    "            if not subtract:\n",
    "                integrate = integrate + data.T[param][i]\n",
    "            if subtract:\n",
    "                ## Need to check case where next track occurs but same event\n",
    "                if data.T[0][i - 1] == event_num and data.T[1][i - 1] == track_num:\n",
    "                    integrate = integrate + data.T[param][i] - data.T[param][i - 1]\n",
    "                else:\n",
    "                    integrate = integrate + 0\n",
    "    return [event_num, track_num, integrate]\n",
    "    \n",
    "    \n",
    "def track_length_and_energy(my_data):\n",
    "    # integrate energy data over track_id, event_id\n",
    "    integrated_energy_by_event = []\n",
    "    integrated_length_by_event_x = []\n",
    "    integrated_length_by_event_y = []\n",
    "    integrated_length_by_event_z = []\n",
    "    for event in range(0, 20):\n",
    "        for track in range(0, 20):\n",
    "            integrated_energy_by_event.append(integrate_over(event, track, my_data))\n",
    "            # get track lengths, `subtract = 1` shows delta track length\n",
    "            integrated_length_by_event_x.append(integrate_over(event, track, my_data, param = 3, subtract = 1))\n",
    "            integrated_length_by_event_y.append(integrate_over(event, track, my_data, param = 4, subtract = 1))\n",
    "            integrated_length_by_event_z.append(integrate_over(event, track, my_data, param = 5, subtract = 1))\n",
    "\n",
    "    ## convert to np arrays\n",
    "    integrated_energy_by_event = np.array(integrated_energy_by_event)\n",
    "    integrated_length_by_event_x = np.array(integrated_length_by_event_x)\n",
    "    integrated_length_by_event_y = np.array(integrated_length_by_event_y)\n",
    "    integrated_length_by_event_z = np.array(integrated_length_by_event_z)\n",
    "\n",
    "    ## find magnitude of track lengths\n",
    "    integrated_length_by_event = np.sqrt((integrated_length_by_event_x.T[2])**2 + (integrated_length_by_event_y.T[2])**2 + (integrated_length_by_event_z.T[2])**2)\n",
    "    return integrated_length_by_event, integrated_energy_by_event\n",
    "\n",
    "\n"
   ]
  },
  {
   "cell_type": "code",
   "execution_count": 86,
   "id": "a9c78a9a",
   "metadata": {},
   "outputs": [],
   "source": [
    "def search_for_proc(search_param, proc_list, my_data):\n",
    "    proc_name = []\n",
    "    for i in range(len(proc_list)):\n",
    "        #print(proc_list[i])\n",
    "        if proc_list[i] == search_param:\n",
    "            proc_name.append(my_data[i])\n",
    "            #print(proc_list[i])\n",
    "    if len(proc_name) == 0:\n",
    "        print(\"Couldn't find anything with\", \"process\", f\"= {search_param}\")\n",
    "    else: \n",
    "        print(\"ProcName\", f\"= {search_param}\")\n",
    "    return np.array(proc_name)"
   ]
  },
  {
   "cell_type": "code",
   "execution_count": 96,
   "id": "2d6cd8e0",
   "metadata": {},
   "outputs": [
    {
     "name": "stdout",
     "output_type": "stream",
     "text": [
      "ProcName = eIoni\n"
     ]
    },
    {
     "data": {
      "image/png": "[encoded data removed]",
      "text/plain": [
       "<Figure size 432x288 with 1 Axes>"
      ]
     },
     "metadata": {
      "needs_background": "light"
     },
     "output_type": "display_data"
    }
   ],
   "source": [
    "my_data = genfromtxt(f'spectrum/6283.8/run_nt_Hits_t0.csv', delimiter=',')\n",
    "\n",
    "proc = proc_list(6283.8, my_data)\n",
    "\n",
    "eioni = search_for_proc(\"eIoni\", proc, my_data)\n",
    "\n",
    "length, energy = track_length_and_energy(eioni)\n",
    "\n",
    "plt.scatter(length, energy.T[2])\n",
    "plt.xlabel(\"Length (mm)\")\n",
    "plt.ylabel(\"Energy loss (MeV)\")\n",
    "plt.show()"
   ]
  },
  {
   "cell_type": "code",
   "execution_count": 122,
   "id": "cd635d37",
   "metadata": {},
   "outputs": [
    {
     "name": "stdout",
     "output_type": "stream",
     "text": [
      "-11\n",
      "blip 1 12\n",
      "0\n",
      "0\n",
      "-10\n",
      "1\n",
      "1\n",
      "-9\n",
      "2\n",
      "2\n",
      "[1 2 3 4 5 6 7]\n",
      "(array([0]),)\n"
     ]
    }
   ],
   "source": [
    "track1 = [1, 2, 3]\n",
    "track2 = [12, 1, 1]\n",
    "\n",
    "track_list = [1, 2, 3, 4, 5, 6, 7, 1, 2, 3, 4, 5]\n",
    "for i in track1:\n",
    "    for j in track2:\n",
    "        print(i - j)\n",
    "        if abs(i-j) > 10:\n",
    "            print(\"blip\", i, j)\n",
    "\n",
    "print(np.unique(track_list))\n",
    "\n",
    "print(np.where(track1[0] - track2[0] < 10))\n",
    "\n",
    "#def blip_or_blob(my_data):\n",
    "    # sorts into blips and blobs"
   ]
  },
  {
   "cell_type": "code",
   "execution_count": null,
   "id": "feaa1ffa",
   "metadata": {},
   "outputs": [],
   "source": []
  }
 ],
 "metadata": {
  "kernelspec": {
   "display_name": "Python 3 (ipykernel)",
   "language": "python",
   "name": "python3"
  },
  "language_info": {
   "codemirror_mode": {
    "name": "ipython",
    "version": 3
   },
   "file_extension": ".py",
   "mimetype": "text/x-python",
   "name": "python",
   "nbconvert_exporter": "python",
   "pygments_lexer": "ipython3",
   "version": "3.9.12"
  }
 },
 "nbformat": 4,
 "nbformat_minor": 5
}
