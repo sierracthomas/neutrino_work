{
 "cells": [
  {
   "cell_type": "code",
   "execution_count": 24,
   "id": "b8321c4a",
   "metadata": {},
   "outputs": [],
   "source": [
    "import matplotlib as mpl\n",
    "import matplotlib.pyplot as plt\n",
    "import numpy as np\n",
    "import os\n",
    "import re\n",
    "from itertools import repeat\n",
    "\n",
    "\n",
    "from snewpy import snowglobes\n",
    "from astropy import units as u\n",
    "from snewpy.neutrino import Flavor, MassHierarchy, MixingParameters\n",
    "from snewpy.models.ccsn import *\n",
    "from snewpy.flavor_transformation import AdiabaticMSW\n",
    "\n",
    "\n",
    "SNOwGLoBES_path = \"/Users/sierra/Desktop/neutrino_fall_2022/dependencies/snowglobes\"\n",
    "SNEWPY_models_base = \"/Users/sierra/Desktop/neutrino_fall_2022/dependencies/SNEWPY_models\"  # directory containing SNEWPY models\n",
    "\n",
    "# set parameters that don't vary over all models\n",
    "# set distance in kpc\n",
    "distance = 1.0\n",
    "\n",
    "# set SNOwGLoBES detector to use\n",
    "detector = \"ar40kt\"\n",
    "\n",
    "# set desired flavor transformation\n",
    "transformation = 'AdiabaticMSW_NMO'\n",
    "\n",
    "#window_tstart = 0.1 # Fornax\n",
    "#window_tend = 1.0\n",
    "#window_bins = 120\n",
    "\n",
    "#window_tstart_burst = -0.1 # Fornax\n",
    "#window_tend_burst = 0.1\n",
    "#window_bins_burst = 60\n",
    "\n",
    "#window_tstart = 0.1 # Nakazato\n",
    "#window_tend = 3.6\n",
    "#window_bins = 70\n",
    "\n",
    "#window_tstart_burst = -0.1 # Nakazato\n",
    "#window_tend_burst = 0.1\n",
    "#window_bins_burst = 100\n",
    "\n",
    "\n",
    "#window_tstart = 0.1 # Tamborra\n",
    "#window_tend = 0.3\n",
    "#window_bins = 4\n",
    "\n",
    "#window_tstart_burst = -0.1 # Tamborra\n",
    "#window_tend_burst = 0.1\n",
    "#window_bins_burst = 100\n",
    "window_tstart = 0.1015 # Fornax adjusted time bins\n",
    "window_tend = 4.1015\n",
    "window_bins = 400 # .01 s time bin\n",
    "\n",
    "#window_tstart_burst = -0.0485 # Fornax adjusted time bins\n",
    "#window_tend_burst = 0.1015\n",
    "#window_bins_burst = 15 # .01 s time bin\n",
    "\n",
    "\n",
    "\n",
    "tstart = np.linspace(window_tstart, window_tend, window_bins, endpoint=False) \n",
    "tend = tstart + (window_tend - window_tstart) / window_bins \n",
    "tmid = (tstart + tend) * 0.5 \n",
    "\n",
    "#tstart_burst = np.linspace(window_tstart_burst, window_tend_burst, window_bins_burst, endpoint=False) \n",
    "#tend_burst = tstart_burst + (window_tend_burst - window_tstart_burst) / window_bins_burst \n",
    "#tmid_burst = (tstart_burst + tend_burst) * 0.5 \n",
    "\n",
    "#tstart = np.append(tstart_burst, tstart)\n",
    "#tend = np.append(tend_burst, tend)\n",
    "\n",
    "# rename factor\n",
    "#change_to_ms = window_bins / (window_tend - window_tstart) / 1000\n",
    "#change_to_ms_burst = window_bins_burst / (window_tend_burst - window_tstart_burst) / 1000\n",
    "\n",
    "\n",
    "# number of lines in dat file\n",
    "num_lines = 500\n"
   ]
  },
  {
   "cell_type": "markdown",
   "id": "00a3aca6",
   "metadata": {},
   "source": [
    "mv Nakazato_2013_nakazato-shen-z0.004-t_rev100ms-s20.0.fits_AdiabaticMSW_NMO.tar.bz2 /Users/sierra/Desktop/neutrino/nakazato_files_fluence_phase/.\n",
    "\n"
   ]
  },
  {
   "cell_type": "code",
   "execution_count": 25,
   "id": "935afe9d",
   "metadata": {
    "scrolled": false
   },
   "outputs": [
    {
     "name": "stdout",
     "output_type": "stream",
     "text": [
      "/Users/sierra/Desktop/neutrino_fall_2022/dependencies/SNEWPY_models/Fornax_2021/lum_spec_26.99M_r10000_dat.h5\n",
      "Fornax_2021_lum_spec_26.99M_r10000_dat.h5_AdiabaticMSW_NMO\n",
      "Preparing fluences ...\n"
     ]
    },
    {
     "data": {
      "application/vnd.jupyter.widget-view+json": {
       "model_id": "",
       "version_major": 2,
       "version_minor": 0
      },
      "text/plain": [
       "Detectors:   0%|          | 0/1 [00:00<?, ?it/s]"
      ]
     },
     "metadata": {},
     "output_type": "display_data"
    },
    {
     "data": {
      "application/vnd.jupyter.widget-view+json": {
       "model_id": "",
       "version_major": 2,
       "version_minor": 0
      },
      "text/plain": [
       "Flux files:   0%|          | 0/400 [00:00<?, ?it/s]"
      ]
     },
     "metadata": {},
     "output_type": "display_data"
    }
   ],
   "source": [
    "matrix = [['Fornax_2021', 'lum_spec_26.99M_r10000_dat.h5'],\n",
    "         ['Nakazato_2013', 'nakazato-shen-z0.004-t_rev100ms-s20.0.fits'],\n",
    "         ['Tamborra_2014', 's20.0c_3D_dir1'],\n",
    "         ['Zha_2021', 's20.dat']]\n",
    "\n",
    "modeltype = matrix[0][0]\n",
    "model = matrix[0][1]\n",
    "\n",
    "modelfile = SNEWPY_models_base + \"/\" + modeltype + \"/\" + model \n",
    "print(modelfile)\n",
    "outfile = modeltype+\"_\"+model+\"_\"+transformation\n",
    "print(outfile)\n",
    "    # snowglobes.generate_fluence integrates the model over the specified time window(s)\n",
    "    # and generates input files for SNOwGLoBES. It returns the full file path of the output file.\n",
    "print(\"Preparing fluences ...\")\n",
    "tarredfile = snowglobes.generate_fluence(modelfile, modeltype, transformation, distance, outfile, tstart * u.s, tend * u.s)\n",
    "\n",
    "    # Next, we run SNOwGLoBES. This will loop over all the fluence files in `tarredfile`.\n",
    "#print(\"Running SNOwGLoBES ...\")\n",
    "sim = snowglobes.simulate(SNOwGLoBES_path, tarredfile, detector_input=detector)\n",
    "\n",
    "\n",
    "\n"
   ]
  },
  {
   "cell_type": "code",
   "execution_count": 26,
   "id": "786fa7ee",
   "metadata": {},
   "outputs": [
    {
     "name": "stdout",
     "output_type": "stream",
     "text": [
      "Collating results ...\n",
      "Done\n"
     ]
    }
   ],
   "source": [
    "    # Finally, we collate SNOwGLoBES’ results into a dictionary\n",
    "print(\"Collating results ...\")\n",
    "tables = snowglobes.collate(SNOwGLoBES_path, tarredfile, skip_plots=True)\n",
    "print(\"Done\")"
   ]
  },
  {
   "cell_type": "code",
   "execution_count": 7,
   "id": "bbfdc864",
   "metadata": {},
   "outputs": [],
   "source": [
    "import matplotlib as mpl\n",
    "import matplotlib.pyplot as plt\n",
    "import numpy as np\n",
    "import os\n",
    "import re\n",
    "from itertools import repeat\n",
    "\n",
    "\n",
    "from snewpy import snowglobes\n",
    "from astropy import units as u\n",
    "from snewpy.neutrino import Flavor, MassHierarchy, MixingParameters\n",
    "from snewpy.models.ccsn import *\n",
    "from snewpy.flavor_transformation import NoTransformation\n",
    "\n",
    "\n",
    "SNOwGLoBES_path = \"/Users/sierra/Desktop/neutrino_fall_2022/dependencies/snowglobes\"\n",
    "SNEWPY_models_base = \"/Users/sierra/Desktop/neutrino_fall_2022/dependencies/SNEWPY_models\"  # directory containing SNEWPY models\n",
    "\n",
    "# set parameters that don't vary over all models\n",
    "# set distance in kpc\n",
    "distance = 1.0\n",
    "\n",
    "# set SNOwGLoBES detector to use\n",
    "detector = \"ar40kt\"\n",
    "\n",
    "# set desired flavor transformation\n",
    "transformation = 'AdiabaticMSW_NMO'\n",
    "\n",
    "#window_tstart = 0.1 # Fornax\n",
    "#window_tend = 1.0\n",
    "#window_bins = 120\n",
    "\n",
    "#window_tstart_burst = -0.1 # Fornax\n",
    "#window_tend_burst = 0.1\n",
    "#window_bins_burst = 60\n",
    "\n",
    "#window_tstart = 0.1 # Nakazato\n",
    "#window_tend = 1.0\n",
    "#window_bins = 90\n",
    "\n",
    "#window_tstart_burst = -0.1 # Nakazato\n",
    "#window_tend_burst = 0.1\n",
    "#window_bins_burst = 100\n",
    "\n",
    "window_tstart = -0.1015 # Fornax adjusted time bins\n",
    "window_tend = 0.4\n",
    "window_bins = 70\n",
    "\n",
    "\n",
    "tstart = np.linspace(window_tstart, window_tend, window_bins, endpoint=False) \n",
    "tend = tstart + (window_tend - window_tstart) / window_bins \n",
    "tmid = (tstart + tend) * 0.5 \n",
    "\n",
    "\n",
    "# rename factor\n",
    "change_to_s = window_bins / (window_tend - window_tstart) \n",
    "#change_to_s_burst = window_bins_burst / (window_tend_burst - window_tstart_burst) \n",
    "\n",
    "\n",
    "# number of lines in dat file\n",
    "num_lines = 500\n"
   ]
  },
  {
   "cell_type": "code",
   "execution_count": 8,
   "id": "80dd0173",
   "metadata": {},
   "outputs": [
    {
     "name": "stdout",
     "output_type": "stream",
     "text": [
      "/Users/sierra/Desktop/neutrino_fall_2022/dependencies/SNEWPY_models/Fornax_2021/lum_spec_20M_r10000_dat.h5\n",
      "Fornax_2021_lum_spec_20M_r10000_dat.h5_AdiabaticMSW_NMO\n",
      "Preparing fluences ...\n"
     ]
    },
    {
     "data": {
      "application/vnd.jupyter.widget-view+json": {
       "model_id": "",
       "version_major": 2,
       "version_minor": 0
      },
      "text/plain": [
       "Detectors:   0%|          | 0/1 [00:00<?, ?it/s]"
      ]
     },
     "metadata": {},
     "output_type": "display_data"
    },
    {
     "data": {
      "application/vnd.jupyter.widget-view+json": {
       "model_id": "",
       "version_major": 2,
       "version_minor": 0
      },
      "text/plain": [
       "Flux files:   0%|          | 0/70 [00:00<?, ?it/s]"
      ]
     },
     "metadata": {},
     "output_type": "display_data"
    }
   ],
   "source": [
    "matrix = [['Fornax_2021', 'lum_spec_20M_r10000_dat.h5'],\n",
    "         ['Nakazato_2013', 'nakazato-shen-z0.004-t_rev100ms-s20.0.fits']]\n",
    "\n",
    "modeltype = matrix[0][0]\n",
    "model = matrix[0][1]\n",
    "\n",
    "modelfile = SNEWPY_models_base + \"/\" + modeltype + \"/\" + model \n",
    "print(modelfile)\n",
    "outfile = modeltype+\"_\"+model+\"_\"+transformation\n",
    "print(outfile)\n",
    "    # snowglobes.generate_fluence integrates the model over the specified time window(s)\n",
    "    # and generates input files for SNOwGLoBES. It returns the full file path of the output file.\n",
    "print(\"Preparing fluences ...\")\n",
    "tarredfile = snowglobes.generate_fluence(modelfile, modeltype, transformation, distance, outfile, tstart * u.s, tend * u.s)\n",
    "\n",
    "    # Next, we run SNOwGLoBES. This will loop over all the fluence files in `tarredfile`.\n",
    "#print(\"Running SNOwGLoBES ...\")\n",
    "sim = snowglobes.simulate(SNOwGLoBES_path, tarredfile, detector_input=detector)\n",
    "\n",
    "\n",
    "\n"
   ]
  },
  {
   "cell_type": "code",
   "execution_count": 9,
   "id": "36752d5e",
   "metadata": {},
   "outputs": [
    {
     "name": "stdout",
     "output_type": "stream",
     "text": [
      "Collating results ...\n",
      "Done\n"
     ]
    }
   ],
   "source": [
    "    # Finally, we collate SNOwGLoBES’ results into a dictionary\n",
    "print(\"Collating results ...\")\n",
    "tables = snowglobes.collate(SNOwGLoBES_path, tarredfile, skip_plots=True)\n",
    "print(\"Done\")"
   ]
  },
  {
   "cell_type": "code",
   "execution_count": null,
   "id": "f9f28ad2",
   "metadata": {},
   "outputs": [],
   "source": []
  }
 ],
 "metadata": {
  "kernelspec": {
   "display_name": "Python 3 (ipykernel)",
   "language": "python",
   "name": "python3"
  },
  "language_info": {
   "codemirror_mode": {
    "name": "ipython",
    "version": 3
   },
   "file_extension": ".py",
   "mimetype": "text/x-python",
   "name": "python",
   "nbconvert_exporter": "python",
   "pygments_lexer": "ipython3",
   "version": "3.9.12"
  }
 },
 "nbformat": 4,
 "nbformat_minor": 5
}
